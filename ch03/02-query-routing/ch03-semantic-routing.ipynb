{
 "cells": [
  {
   "metadata": {
    "collapsed": true
   },
   "cell_type": "markdown",
   "source": [
    "# Chapter 3: RAG Part II: Chatting with Your Data\n",
    "\n",
    "## Query Routing\n",
    "\n",
    "Although using a single vector store is useful, the required data may live in a variety of data sources, including relational databases or other vector stores.\n",
    "\n",
    "For example, you may have two vector stores: one for LangChain Python documentation and another for LangChain JS documentation. Given a user’s question, we would like to route the query to the appropriate inferred data source to retrieve relevant docs. _Query routing_ is a strategy used to forward a user’s query to the relevant data source.\n",
    "\n",
    "### Semantic Routing\n",
    "\n",
    "Unlike logical routing, _semantic routing_ involves embedding various prompts that represent various data sources alongside the user’s query and then performing vector similarity search to retrieve the most similar prompt.\n",
    "\n",
    "The following is an example of semantic routing:"
   ],
   "id": "6808550a0c20f672"
  },
  {
   "metadata": {
    "ExecuteTime": {
     "end_time": "2025-09-23T19:54:51.254601Z",
     "start_time": "2025-09-23T19:54:33.261684Z"
    }
   },
   "cell_type": "code",
   "source": [
    "from langchain.utils.math import cosine_similarity\n",
    "from langchain_core.output_parsers import StrOutputParser\n",
    "from langchain_core.prompts import PromptTemplate\n",
    "from langchain_core.runnables import chain\n",
    "from langchain_deepseek import ChatDeepSeek\n",
    "from langchain_huggingface import HuggingFaceEmbeddings\n",
    "from dotenv import load_dotenv\n",
    "\n",
    "load_dotenv()\n",
    "\n",
    "# define embedding model\n",
    "hf_embedding = HuggingFaceEmbeddings(\n",
    "    model=\"sentence-transformers/all-mpnet-base-v2\", # use this model to perform the embedding\n",
    "    model_kwargs={\"device\": \"cpu\"},\n",
    "    encode_kwargs={\"normalize_embeddings\": False},\n",
    ")\n",
    "\n",
    "llm = ChatDeepSeek(model=\"deepseek-chat\", temperature=0)\n",
    "\n",
    "# define prompts\n",
    "physics_template = \"\"\"You are a very smart physics professor. You are great at answering questions about physics in a concise and easy-to-understand manner. When you don't know the answer to a question, you admit that you don't know.\n",
    "Here is a question:\n",
    "{question}\"\"\"\n",
    "\n",
    "math_template = \"\"\"You're a very good mathematician. You're great at answering math questions. You're so good because you're able to break down hard problems into their component parts, answer the component parts, and then put them together to answer a broader question.\n",
    "Here is a question:\n",
    "{question}\n",
    "\"\"\"\n",
    "\n",
    "# embedd the prompts\n",
    "prompt_templates = [physics_template, math_template]\n",
    "prompt_embeddings = hf_embedding.embed_documents(texts=prompt_templates)"
   ],
   "id": "c411d2a26224adb1",
   "outputs": [],
   "execution_count": 1
  },
  {
   "metadata": {},
   "cell_type": "markdown",
   "source": "Define semantic router:",
   "id": "50230cb09693bd9f"
  },
  {
   "metadata": {
    "ExecuteTime": {
     "end_time": "2025-09-23T20:01:03.748713Z",
     "start_time": "2025-09-23T20:01:03.744702Z"
    }
   },
   "cell_type": "code",
   "source": [
    "@chain\n",
    "def prompt_router(query: str) -> PromptTemplate:\n",
    "    # embed question\n",
    "    query_embedding = hf_embedding.embed_query(text=query)\n",
    "\n",
    "    # compute similarity\n",
    "    similarity = cosine_similarity([query_embedding, ], prompt_embeddings)[0]\n",
    "    # pick prompt most similar to the input question\n",
    "    most_similar = prompt_templates[similarity.argmax()]\n",
    "\n",
    "    return PromptTemplate.from_template(most_similar)\n",
    "\n",
    "semantic_router = prompt_router | llm | StrOutputParser()"
   ],
   "id": "e855df9d6daf7f73",
   "outputs": [],
   "execution_count": 4
  },
  {
   "metadata": {},
   "cell_type": "markdown",
   "source": "Run the model:",
   "id": "604972313cee5a29"
  },
  {
   "metadata": {
    "ExecuteTime": {
     "end_time": "2025-09-23T20:01:28.414403Z",
     "start_time": "2025-09-23T20:01:06.711655Z"
    }
   },
   "cell_type": "code",
   "source": [
    "response = semantic_router.invoke(input=\"What's is a black hole?\")\n",
    "print(response)"
   ],
   "id": "a74f9fde283f4991",
   "outputs": [
    {
     "name": "stdout",
     "output_type": "stream",
     "text": [
      "Excellent question. Let's break it down.\n",
      "\n",
      "A black hole is a region of space where gravity is so intense that nothing, not even light, can escape from it.\n",
      "\n",
      "Think of it this way: every object has an \"escape velocity,\" the speed you need to go to break free of its gravity. For Earth, that's about 11 km/s (25,000 mph). For a black hole, the escape velocity at its boundary is greater than the speed of light, which is the universe's ultimate speed limit. Since nothing can travel faster than light, nothing can escape.\n",
      "\n",
      "Here are the key parts:\n",
      "\n",
      "1.  **The Event Horizon:** This is the \"point of no return,\" the boundary of the black hole. Once anything crosses this invisible spherical surface, it is inexorably pulled inward. We cannot see what happens inside.\n",
      "\n",
      "2.  **The Singularity:** At the very center of the black hole, all the mass is thought to be crushed into a single point of infinite density. Our current laws of physics break down here, and we need a theory of quantum gravity (which we don't yet have) to understand it.\n",
      "\n",
      "3.  **How they form:** They are typically the end result of the life cycle of a very massive star. When such a star runs out of nuclear fuel, its core collapses under its own immense gravity. If the core is massive enough (about 2-3 times the mass of our Sun), this collapse continues uncontrollably, forming a black hole.\n",
      "\n",
      "A common misconception is that black holes are \"cosmic vacuum cleaners\" actively sucking things in. They aren't. Their gravity is just like that of any other object. If you replaced our Sun with a black hole of the same mass, the Earth would continue to orbit it perfectly normally (though it would be very dark and cold!).\n",
      "\n",
      "In short, a black hole is an extreme gravitational prison from which there is no escape.\n"
     ]
    }
   ],
   "execution_count": 5
  }
 ],
 "metadata": {
  "kernelspec": {
   "display_name": "Python 3",
   "language": "python",
   "name": "python3"
  },
  "language_info": {
   "codemirror_mode": {
    "name": "ipython",
    "version": 2
   },
   "file_extension": ".py",
   "mimetype": "text/x-python",
   "name": "python",
   "nbconvert_exporter": "python",
   "pygments_lexer": "ipython2",
   "version": "2.7.6"
  }
 },
 "nbformat": 4,
 "nbformat_minor": 5
}
