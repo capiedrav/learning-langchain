{
 "cells": [
  {
   "metadata": {
    "collapsed": true
   },
   "cell_type": "markdown",
   "source": [
    "# Chapter 3: RAG Part II: Chatting with Your Data\n",
    "\n",
    "## Query Construction\n",
    "\n",
    "As discussed earlier, RAG is an effective strategy to embed and retrieve relevant unstructured data from a vector store based on a query. But most data available for use in production apps is structured and typically stored in relational databases. In addition, unstructured data embedded in a vector store also contains structured metadata that possesses important information.\n",
    "\n",
    "_Query construction_ is the process of transforming a natural language query into the query language of the database or data source you are interacting with.\n",
    "\n",
    "### Text-to-SQL\n",
    "\n",
    "SQL and relational databases are important sources of structured data, but they don’t interact directly with natural language. Although we can simply use the LLM to translate a user’s query to SQL queries, there is little margin for error.\n",
    "\n",
    "Here are some useful strategies for effective text to SQL translations:\n",
    "\n",
    "**_Database description_**\n",
    "\n",
    "To ground SQL queries, an LLM must be provided with an accurate description   of the database. One common text-to-SQL prompt employs an idea reported in several papers: provide the LLM with a ```CREATE TABLE``` description for each table, including column names and types. We can also provide a few (for  instance, three) example rows from the table.\n",
    "\n",
    "_**Few-shot examples**_\n",
    "\n",
    "Feeding the prompt with few-shot examples of question-query matches can improve the query generation accuracy. This can be achieved by simply appending standard static examples in the prompt to guide the agent on how it should build queries based on questions.\n",
    "\n",
    "Here’s a full code example:\n",
    "\n",
    "1. Inspect the database"
   ],
   "id": "87b8d77247f5db05"
  },
  {
   "metadata": {
    "ExecuteTime": {
     "end_time": "2025-09-29T21:33:41.638817Z",
     "start_time": "2025-09-29T21:33:41.562951Z"
    }
   },
   "cell_type": "code",
   "source": [
    "from langchain_community.tools import QuerySQLDatabaseTool\n",
    "from langchain_community.utilities import SQLDatabase\n",
    "from langchain.chains import create_sql_query_chain\n",
    "from langchain_deepseek import ChatDeepSeek\n",
    "from dotenv import load_dotenv\n",
    "\n",
    "\n",
    "load_dotenv()\n",
    "\n",
    "db = SQLDatabase.from_uri(\"sqlite:///chinook.db\")\n",
    "print(db.get_usable_table_names())"
   ],
   "id": "d48982f63b176a2d",
   "outputs": [
    {
     "name": "stdout",
     "output_type": "stream",
     "text": [
      "['albums', 'artists', 'customers', 'employees', 'genres', 'invoice_items', 'invoices', 'media_types', 'playlist_track', 'playlists', 'tracks']\n"
     ]
    }
   ],
   "execution_count": 2
  },
  {
   "metadata": {},
   "cell_type": "markdown",
   "source": "2. Convert question to SQL query",
   "id": "b1ed803125d5afb7"
  },
  {
   "metadata": {
    "ExecuteTime": {
     "end_time": "2025-09-30T01:21:18.298509Z",
     "start_time": "2025-09-30T01:21:18.240896Z"
    }
   },
   "cell_type": "code",
   "source": [
    "llm = ChatDeepSeek(model=\"deepseek-chat\", temperature=0)\n",
    "\n",
    "def parse_query(query: str) -> str:\n",
    "    \"\"\"\n",
    "    Parse the SQL query returned by write_query before sending it to execute_query.\n",
    "\n",
    "    The query returned by write_query is originally in the form: SQLQuery: 'SQL statement'\n",
    "\n",
    "    This function returns the SQL statement.\n",
    "    \"\"\"\n",
    "\n",
    "    return query.split(\"SQLQuery: \")[1].strip()\n",
    "\n",
    "write_query = create_sql_query_chain(llm, db)\n",
    "execute_query = QuerySQLDatabaseTool(db=db)\n",
    "combined_chain = write_query | parse_query | execute_query"
   ],
   "id": "6baa9efb55a61bb5",
   "outputs": [],
   "execution_count": 9
  },
  {
   "metadata": {},
   "cell_type": "markdown",
   "source": "3. Run the chain",
   "id": "bc6fe0f21b75d639"
  },
  {
   "metadata": {
    "ExecuteTime": {
     "end_time": "2025-09-30T01:23:21.816911Z",
     "start_time": "2025-09-30T01:23:18.643228Z"
    }
   },
   "cell_type": "code",
   "source": [
    "response  = combined_chain.invoke(input={\"question\": \"How many employees are there?\"})\n",
    "print(response)"
   ],
   "id": "aad98eaf537566c0",
   "outputs": [
    {
     "name": "stdout",
     "output_type": "stream",
     "text": [
      "[(8,)]\n"
     ]
    }
   ],
   "execution_count": 13
  },
  {
   "metadata": {
    "ExecuteTime": {
     "end_time": "2025-09-30T01:33:55.867572Z",
     "start_time": "2025-09-30T01:33:52.500674Z"
    }
   },
   "cell_type": "code",
   "source": [
    "response = combined_chain.invoke(input={\"question\": \"Give me the names, birthdays, and hire dates of sales support agents\"})\n",
    "print(response)"
   ],
   "id": "949d2d7bcfb1bf0",
   "outputs": [
    {
     "name": "stdout",
     "output_type": "stream",
     "text": [
      "[('Jane', 'Peacock', '1973-08-29 00:00:00', '2002-04-01 00:00:00'), ('Margaret', 'Park', '1947-09-19 00:00:00', '2003-05-03 00:00:00'), ('Steve', 'Johnson', '1965-03-03 00:00:00', '2003-10-17 00:00:00')]\n"
     ]
    }
   ],
   "execution_count": 17
  },
  {
   "metadata": {},
   "cell_type": "markdown",
   "source": "We first convert the user’s query to a SQL query appropriate to the dialect of our database. Then we execute that query on our database. Note that executing arbitrary SQL queries on your database generated by an LLM from user input is dangerous in a production application.",
   "id": "abd204da6a1523bf"
  }
 ],
 "metadata": {
  "kernelspec": {
   "display_name": "Python 3",
   "language": "python",
   "name": "python3"
  },
  "language_info": {
   "codemirror_mode": {
    "name": "ipython",
    "version": 2
   },
   "file_extension": ".py",
   "mimetype": "text/x-python",
   "name": "python",
   "nbconvert_exporter": "python",
   "pygments_lexer": "ipython2",
   "version": "2.7.6"
  }
 },
 "nbformat": 4,
 "nbformat_minor": 5
}
